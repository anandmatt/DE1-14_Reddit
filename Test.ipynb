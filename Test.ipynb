{
 "cells": [
  {
   "cell_type": "code",
   "execution_count": null,
   "id": "85f2dfa3-1680-43b7-847c-e4a8722b59ed",
   "metadata": {},
   "outputs": [],
   "source": [
    "from pyspark.sql import SparkSession, SQLContext\n",
    "\n",
    "#Initialize SparkSession with Dynamic Allocation configurations\n",
    "spark_session = SparkSession.builder \\\n",
    "    .master(\"spark://192.168.2.157:7077\") \\\n",
    "    .appName(\"test\") \\\n",
    "    .config(\"spark.shuffle.file.buffer\", \"1mb\") \\\n",
    "    .config(\"spark.executor.cores\", 8) \\\n",
    "    .config(\"spark.executor.memory\", \"10g\") \\\n",
    "    .config(\"spark.driver.port\", 9999) \\\n",
    "    .config(\"spark.blockManager.port\", 10005) \\\n",
    "    .getOrCreate()\n",
    "\n",
    "#Set up the RDD API context\n",
    "spark_context = spark_session.sparkContext\n",
    "\n",
    "#Set log level to INFO to see informational messages\n",
    "spark_context.setLogLevel(\"WARN\")"
   ]
  },
  {
   "cell_type": "code",
   "execution_count": null,
   "id": "15dca463-9156-4db2-87ca-eb425ab61266",
   "metadata": {},
   "outputs": [],
   "source": [
    "df = spark_session.read.json(\"hdfs://192.168.2.157:9000/user/ubuntu/input/corpus-webis-tldr-17.json\").cache()"
   ]
  },
  {
   "cell_type": "code",
   "execution_count": null,
   "id": "7a3be9fc-a7b9-4659-a6d9-c9091aeb0b9d",
   "metadata": {},
   "outputs": [],
   "source": [
    "df.show()"
   ]
  },
  {
   "cell_type": "code",
   "execution_count": null,
   "id": "701af158-c9dc-4113-b8fe-811f234cbe92",
   "metadata": {},
   "outputs": [],
   "source": [
    "from pyspark.sql.functions import col\n",
    "\n",
    "# get all the subreddits in a df\n",
    "subreddits_df = df.select(col(\"subreddit\"))\n",
    "subreddits_df.show()"
   ]
  },
  {
   "cell_type": "code",
   "execution_count": null,
   "id": "6e1317f7-092c-4381-aef2-619e977671c1",
   "metadata": {},
   "outputs": [],
   "source": [
    "# Count the occurences of subreddits\n",
    "subreddit_counts = subreddits_df.groupBy(\"subreddit\").count()"
   ]
  },
  {
   "cell_type": "code",
   "execution_count": null,
   "id": "89dcff02-5e40-44df-b0b2-47a0b3b81d7a",
   "metadata": {},
   "outputs": [],
   "source": [
    "# Order by the occurence of subbreddits with the most popular at the top\n",
    "sorted_counts = subreddit_counts.orderBy(col(\"count\").desc())"
   ]
  },
  {
   "cell_type": "code",
   "execution_count": null,
   "id": "b5200a50-451a-4801-a77f-fdad211b9ecc",
   "metadata": {},
   "outputs": [],
   "source": [
    "sorted_counts.show(10)"
   ]
  },
  {
   "cell_type": "code",
   "execution_count": null,
   "id": "da12366d-6444-4c33-9804-2610fe3f1d7f",
   "metadata": {},
   "outputs": [],
   "source": [
    "sorted_counts.show(10)"
   ]
  },
  {
   "cell_type": "code",
   "execution_count": null,
   "id": "2dcbaf98-89a4-45d3-8145-33bae8ca8531",
   "metadata": {},
   "outputs": [],
   "source": [
    "# Stop the SparkSession\n",
    "spark_session.stop()"
   ]
  },
  {
   "cell_type": "code",
   "execution_count": null,
   "id": "f6a93ec0-f051-4299-9c6c-55917d829477",
   "metadata": {},
   "outputs": [],
   "source": [
    "from pyspark.sql.functions import length\n",
    "\n",
    "# Map each record to a DataFrame containing the length of the summary and the length of the text\n",
    "lengths_df = df.select(length(\"summary\").alias(\"summary_length\"), length(\"content\").alias(\"content_length\"))\n",
    "\n",
    "# Calculate the correlation between the two columns\n",
    "correlation = lengths_df.stat.corr(\"summary_length\", \"content_length\")\n",
    "\n",
    "print(\"Correlation between summary length and text length:\", correlation)\n",
    "\n",
    "# Stop the SparkSession\n",
    "spark_session.stop()"
   ]
  },
  {
   "cell_type": "code",
   "execution_count": null,
   "id": "e55cd00e-7de2-48d1-a71f-0f76dab53908",
   "metadata": {},
   "outputs": [],
   "source": []
  }
 ],
 "metadata": {
  "kernelspec": {
   "display_name": "Python 3 (ipykernel)",
   "language": "python",
   "name": "python3"
  },
  "language_info": {
   "codemirror_mode": {
    "name": "ipython",
    "version": 3
   },
   "file_extension": ".py",
   "mimetype": "text/x-python",
   "name": "python",
   "nbconvert_exporter": "python",
   "pygments_lexer": "ipython3",
   "version": "3.10.12"
  }
 },
 "nbformat": 4,
 "nbformat_minor": 5
}
