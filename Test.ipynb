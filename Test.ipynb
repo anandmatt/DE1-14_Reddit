{
 "cells": [
  {
   "cell_type": "code",
   "execution_count": 1,
   "id": "85f2dfa3-1680-43b7-847c-e4a8722b59ed",
   "metadata": {},
   "outputs": [
    {
     "name": "stderr",
     "output_type": "stream",
     "text": [
      "Setting default log level to \"WARN\".\n",
      "To adjust logging level use sc.setLogLevel(newLevel). For SparkR, use setLogLevel(newLevel).\n",
      "24/03/12 21:32:17 WARN NativeCodeLoader: Unable to load native-hadoop library for your platform... using builtin-java classes where applicable\n"
     ]
    }
   ],
   "source": [
    "from pyspark.sql import SparkSession\n",
    "from pyspark.mllib.stat import Statistics\n",
    "\n",
    "spark_session = SparkSession.builder\\\n",
    "        .master(\"spark://192.168.2.225:7077\") \\\n",
    "        .appName(\"test\")\\\n",
    "        .config(\"spark.dynamicAllocation.enabled\", True)\\\n",
    "        .config(\"spark.dynamicAllocation.shuffleTracking.enabled\",True)\\\n",
    "        .config(\"spark.shuffle.service.enabled\", False)\\\n",
    "        .config(\"spark.dynamicAllocation.executorIdleTimeout\",\"30s\")\\\n",
    "        .config(\"spark.executor.cores\", 2)\\\n",
    "        .config(\"spark.driver.port\",9999)\\\n",
    "        .config(\"spark.blockManager.port\",10005)\\\n",
    "        .getOrCreate()\n",
    "\n",
    "# RDD API\n",
    "spark_context = spark_session.sparkContext\n",
    "\n",
    "# spark_context.setLogLevel(\"INFO\")"
   ]
  },
  {
   "cell_type": "code",
   "execution_count": 2,
   "id": "15dca463-9156-4db2-87ca-eb425ab61266",
   "metadata": {},
   "outputs": [],
   "source": [
    "json_rdd = spark_context.textFile(\"hdfs://192.168.2.225:9000/user/ubuntu/corpus-webis-tldr-17.json\")\\\n",
    "                        .map(lambda line: eval(line))  # Assuming each line is a dictionary representation\n",
    "\n",
    "# Extract the 'subreddit' field from each dictionary\n",
    "subreddits_rdd = json_rdd.map(lambda record: record.get('subreddit', None))\n",
    "\n",
    "# Filter out None values and count the occurrences of each subreddit\n",
    "subreddit_counts_rdd = subreddits_rdd.filter(lambda x: x is not None) \\\n",
    "                                    .map(lambda subreddit: (subreddit, 1)) \\\n",
    "                                    .reduceByKey(lambda a, b: a + b)\n",
    "\n",
    "# Sort the subreddits by count in descending order\n",
    "sorted_subreddits_rdd = subreddit_counts_rdd.sortBy(lambda x: x[1], ascending=False)\n",
    "\n",
    "# Take the top 10 subreddits\n",
    "top_10_subreddits = sorted_subreddits_rdd.take(10)\n",
    "\n",
    "# Display the top 10 subreddits\n",
    "for subreddit, count in top_10_subreddits:\n",
    "    print(f\"Subreddit: {subreddit}, Count: {count}\")\n",
    "\n",
    "# Stop the SparkSession\n",
    "spark_session.stop()\n",
    "\n",
    "# Subreddit: AskReddit, Count: 589947\n",
    "# Subreddit: relationships, Count: 352049\n",
    "# Subreddit: leagueoflegends, Count: 109307\n",
    "# Subreddit: tifu, Count: 52219\n",
    "# Subreddit: relationship_advice, Count: 50416\n",
    "# Subreddit: trees, Count: 47286\n",
    "# Subreddit: gaming, Count: 43851\n",
    "# Subreddit: atheism, Count: 43268\n",
    "# Subreddit: AdviceAnimals, Count: 40783\n",
    "# Subreddit: funny, Count: 40171"
   ]
  },
  {
   "cell_type": "code",
   "execution_count": 3,
   "id": "f6a93ec0-f051-4299-9c6c-55917d829477",
   "metadata": {},
   "outputs": [
    {
     "name": "stderr",
     "output_type": "stream",
     "text": [
      "                                                                                \r"
     ]
    },
    {
     "name": "stdout",
     "output_type": "stream",
     "text": [
      "Correlation between summary length and text length: [[1.         0.32852918]\n",
      " [0.32852918 1.        ]]\n"
     ]
    }
   ],
   "source": [
    "# Map each record to a tuple containing the length of the summary and the length of the text\n",
    "lengths_rdd = json_rdd.map(lambda record: (len(record.get('summary', '')), len(record.get('content', ''))))\n",
    "\n",
    "# Calculate the correlation between the two columns\n",
    "correlation = Statistics.corr(lengths_rdd)\n",
    "\n",
    "print(\"Correlation between summary length and text length:\", correlation)\n",
    "\n",
    "# Stop the SparkSession\n",
    "spark_session.stop()"
   ]
  },
  {
   "cell_type": "code",
   "execution_count": null,
   "id": "e55cd00e-7de2-48d1-a71f-0f76dab53908",
   "metadata": {},
   "outputs": [],
   "source": []
  }
 ],
 "metadata": {
  "kernelspec": {
   "display_name": "Python 3 (ipykernel)",
   "language": "python",
   "name": "python3"
  },
  "language_info": {
   "codemirror_mode": {
    "name": "ipython",
    "version": 3
   },
   "file_extension": ".py",
   "mimetype": "text/x-python",
   "name": "python",
   "nbconvert_exporter": "python",
   "pygments_lexer": "ipython3",
   "version": "3.8.10"
  }
 },
 "nbformat": 4,
 "nbformat_minor": 5
}
