{
 "cells": [
  {
   "cell_type": "code",
   "execution_count": 1,
   "id": "b6c01a13-6198-4973-baba-c8e95a0c4d35",
   "metadata": {},
   "outputs": [],
   "source": [
    "import csv\n",
    "import time\n",
    "from pyspark.sql import SparkSession, Window\n",
    "from pyspark.sql.functions import col, count, max, avg, explode, split, length, lower, struct, row_number, desc, countDistinct\n",
    "\n",
    "# Initialization\n",
    "spark_master = \"192.168.2.157\"\n",
    "data_path = \"hdfs://192.168.2.157:9000/user/ubuntu/input/corpus-webis-tldr-17.json\"\n",
    "results_path = \"performance_test_3_workers.csv\"\n",
    "\n",
    "# Functions\n",
    "def create_spark_session(worker_count):\n",
    "    \"\"\"Initialize Spark session.\"\"\"\n",
    "    return SparkSession.builder\\\n",
    "        .master(f\"spark://{spark_master}:7077\")\\\n",
    "        .appName(f\"PerformanceTest{worker_count}Workers\")\\\n",
    "        .config(\"spark.executor.instances\", str(worker_count))\\\n",
    "        .config(\"spark.executor.cores\", \"8\")\\\n",
    "        .config(\"spark.executor.memory\", \"8g\")\\\n",
    "        .config(\"spark.driver.port\", 9999)\\\n",
    "        .config(\"spark.blockManager.port\", 10005)\\\n",
    "        .getOrCreate()\n",
    "\n",
    "def log_performance(test_id, task, duration):\n",
    "    \"\"\"Log performance results to CSV.\"\"\"\n",
    "    with open(results_path, 'a', newline='') as file:\n",
    "        writer = csv.writer(file)\n",
    "        writer.writerow([test_id, task, f\"{duration:.2f}\"])\n",
    "\n",
    "def measure_time(func):\n",
    "    \"\"\"Measure execution time of a function.\"\"\"\n",
    "    start_time = time.time()\n",
    "    result = func()\n",
    "    duration = time.time() - start_time\n",
    "    return duration, result\n",
    "\n",
    "def run_tasks(spark, worker_count):\n",
    "    \"\"\"Run tasks and measure performance.\"\"\"\n",
    "    df = spark.read.json(data_path).cache()\n",
    "    df.count()  # Trigger cache\n",
    "\n",
    "    # Define tasks within this function to ensure access to the DataFrame\n",
    "    tasks = {\n",
    "        'aggregate_subreddit_stats': lambda: df.groupBy('subreddit').agg(count(\"*\").alias(\"count\"), max(\"content_len\"), avg(\"summary_len\")).count(),\n",
    "        'agg': lambda: df.groupBy('subreddit').agg(count(\"*\").alias(\"count\"), max(\"content_len\"), avg(\"summary_len\")).count(),\n",
    "        'join': lambda: df.alias(\"df1\").join(df.alias(\"df2\"), col(\"df1.id\") == col(\"df2.id\")).count(),\n",
    "        'complex_transformation': lambda: df.withColumn(\"new_content_len\", col(\"content_len\") * 2).groupBy('subreddit').agg(avg(\"new_content_len\")).collect(),\n",
    "        'window_function': lambda: df.withColumn(\"rank\", row_number().over(Window.partitionBy(\"subreddit\").orderBy(desc(\"content_len\")))).filter(col(\"rank\") <= 10).count(),\n",
    "        'explode_split': lambda: df.withColumn(\"words\", explode(split(col(\"body\"), \" \"))).groupBy(\"words\").count().orderBy(desc(\"count\")).limit(10).collect(),\n",
    "        'avg_summary_by_author': lambda: df.groupBy('author').agg(avg('summary_len').alias('avg_summary_length')).count(),\n",
    "        'distinct_subreddit_count': lambda: df.select('subreddit').distinct().count(),\n",
    "        'max_summary_length_per_subreddit': lambda: df.groupBy('subreddit').agg(max('summary_len').alias('max_summary_length')).count(),\n",
    "        'top_title_per_subreddit': lambda: df.withColumn(\"title_length\", length(col(\"title\"))).groupBy('subreddit').agg(max(struct(col('title_length'), col('title'))).alias('top_title')).count(),\n",
    "        'word_count_in_titles': lambda: df.withColumn(\"word\", explode(split(lower(col(\"title\")), \"\\\\s+\"))).groupBy('word').count().orderBy(desc('count')).limit(10).collect(),\n",
    "        'self_join_shuffle': lambda: df.alias(\"df1\").join(df.alias(\"df2\"), col(\"df1.subreddit\") == col(\"df2.subreddit\")).agg(count(\"*\")).collect(),\n",
    "        'cross_join': lambda: df.crossJoin(df.limit(10)).agg(count(\"*\")).collect(),  \n",
    "        'complex_aggregation': lambda: df.groupBy('subreddit').agg(count(\"*\"), avg(\"summary_len\"), max(\"content_len\"), countDistinct(\"author\")).collect(),\n",
    "        'sort_by_large_dataset': lambda: df.orderBy(desc(\"summary_len\")).limit(1000).collect(),\n",
    "    }\n",
    "\n",
    "    for task_name, task_func in tasks.items():\n",
    "        duration, _ = measure_time(task_func)\n",
    "        print(f\"Task {task_name} with {worker_count} workers completed in {duration:.2f} seconds.\")\n",
    "        log_performance(f\"{worker_count}_workers\", task_name, duration)\n"
   ]
  },
  {
   "cell_type": "code",
   "execution_count": null,
   "id": "7f6e031a-4af0-404d-9fb9-f97976516af0",
   "metadata": {},
   "outputs": [
    {
     "name": "stderr",
     "output_type": "stream",
     "text": [
      "Setting default log level to \"WARN\".\n",
      "To adjust logging level use sc.setLogLevel(newLevel). For SparkR, use setLogLevel(newLevel).\n",
      "24/03/14 22:07:45 WARN NativeCodeLoader: Unable to load native-hadoop library for your platform... using builtin-java classes where applicable\n",
      "                                                                                \r"
     ]
    },
    {
     "name": "stdout",
     "output_type": "stream",
     "text": [
      "Task aggregate_subreddit_stats with 3 workers completed in 28.66 seconds.\n"
     ]
    },
    {
     "name": "stderr",
     "output_type": "stream",
     "text": [
      "                                                                                \r"
     ]
    },
    {
     "name": "stdout",
     "output_type": "stream",
     "text": [
      "Task agg with 3 workers completed in 7.26 seconds.\n"
     ]
    },
    {
     "name": "stderr",
     "output_type": "stream",
     "text": [
      "                                                                                \r"
     ]
    },
    {
     "name": "stdout",
     "output_type": "stream",
     "text": [
      "Task join with 3 workers completed in 7.12 seconds.\n"
     ]
    },
    {
     "name": "stderr",
     "output_type": "stream",
     "text": [
      "                                                                                \r"
     ]
    },
    {
     "name": "stdout",
     "output_type": "stream",
     "text": [
      "Task complex_transformation with 3 workers completed in 7.63 seconds.\n"
     ]
    },
    {
     "name": "stderr",
     "output_type": "stream",
     "text": [
      "                                                                                \r"
     ]
    },
    {
     "name": "stdout",
     "output_type": "stream",
     "text": [
      "Task window_function with 3 workers completed in 8.22 seconds.\n"
     ]
    },
    {
     "name": "stderr",
     "output_type": "stream",
     "text": [
      "                                                                                \r"
     ]
    },
    {
     "name": "stdout",
     "output_type": "stream",
     "text": [
      "Task explode_split with 3 workers completed in 24.93 seconds.\n"
     ]
    },
    {
     "name": "stderr",
     "output_type": "stream",
     "text": [
      "                                                                                \r"
     ]
    },
    {
     "name": "stdout",
     "output_type": "stream",
     "text": [
      "Task avg_summary_by_author with 3 workers completed in 9.53 seconds.\n"
     ]
    },
    {
     "name": "stderr",
     "output_type": "stream",
     "text": [
      "                                                                                \r"
     ]
    },
    {
     "name": "stdout",
     "output_type": "stream",
     "text": [
      "Task distinct_subreddit_count with 3 workers completed in 5.41 seconds.\n"
     ]
    },
    {
     "name": "stderr",
     "output_type": "stream",
     "text": [
      "                                                                                \r"
     ]
    },
    {
     "name": "stdout",
     "output_type": "stream",
     "text": [
      "Task max_summary_length_per_subreddit with 3 workers completed in 4.02 seconds.\n"
     ]
    },
    {
     "name": "stderr",
     "output_type": "stream",
     "text": [
      "24/03/14 22:11:50 WARN TaskSetManager: Lost task 11.0 in stage 56.0 (TID 2068) (192.168.2.22 executor 0): java.lang.OutOfMemoryError: Java heap space\n",
      "\tat java.base/java.lang.reflect.Array.newInstance(Array.java:78)\n",
      "\tat java.base/java.io.ObjectInputStream.readArray(ObjectInputStream.java:2121)\n",
      "\tat java.base/java.io.ObjectInputStream.readObject0(ObjectInputStream.java:1721)\n",
      "\tat java.base/java.io.ObjectInputStream.readArray(ObjectInputStream.java:2157)\n",
      "\tat java.base/java.io.ObjectInputStream.readObject0(ObjectInputStream.java:1721)\n",
      "\tat java.base/java.io.ObjectInputStream$FieldValues.<init>(ObjectInputStream.java:2606)\n",
      "\tat java.base/java.io.ObjectInputStream.readSerialData(ObjectInputStream.java:2457)\n",
      "\tat java.base/java.io.ObjectInputStream.readOrdinaryObject(ObjectInputStream.java:2257)\n",
      "\tat java.base/java.io.ObjectInputStream.readObject0(ObjectInputStream.java:1733)\n",
      "\tat java.base/java.io.ObjectInputStream.readObject(ObjectInputStream.java:509)\n",
      "\tat java.base/java.io.ObjectInputStream.readObject(ObjectInputStream.java:467)\n",
      "\tat org.apache.spark.serializer.JavaDeserializationStream.readObject(JavaSerializer.scala:87)\n",
      "\tat org.apache.spark.serializer.DeserializationStream$$anon$1.getNext(Serializer.scala:168)\n",
      "\tat org.apache.spark.util.NextIterator.hasNext(NextIterator.scala:73)\n",
      "\tat org.apache.spark.storage.memory.MemoryStore.putIterator(MemoryStore.scala:223)\n",
      "\tat org.apache.spark.storage.memory.MemoryStore.putIteratorAsValues(MemoryStore.scala:302)\n",
      "\tat org.apache.spark.storage.BlockManager.maybeCacheDiskValuesInMemory(BlockManager.scala:1735)\n",
      "\tat org.apache.spark.storage.BlockManager.getLocalValues(BlockManager.scala:961)\n",
      "\tat org.apache.spark.storage.BlockManager.get(BlockManager.scala:1276)\n",
      "\tat org.apache.spark.storage.BlockManager.getOrElseUpdate(BlockManager.scala:1377)\n",
      "\tat org.apache.spark.storage.BlockManager.getOrElseUpdateRDDBlock(BlockManager.scala:1343)\n",
      "\tat org.apache.spark.rdd.RDD.getOrCompute(RDD.scala:379)\n",
      "\tat org.apache.spark.rdd.RDD.iterator(RDD.scala:329)\n",
      "\tat org.apache.spark.rdd.MapPartitionsRDD.compute(MapPartitionsRDD.scala:52)\n",
      "\tat org.apache.spark.rdd.RDD.computeOrReadCheckpoint(RDD.scala:367)\n",
      "\tat org.apache.spark.rdd.RDD.iterator(RDD.scala:331)\n",
      "\tat org.apache.spark.rdd.MapPartitionsRDD.compute(MapPartitionsRDD.scala:52)\n",
      "\tat org.apache.spark.rdd.RDD.computeOrReadCheckpoint(RDD.scala:367)\n",
      "\tat org.apache.spark.rdd.RDD.iterator(RDD.scala:331)\n",
      "\tat org.apache.spark.rdd.MapPartitionsRDD.compute(MapPartitionsRDD.scala:52)\n",
      "\tat org.apache.spark.rdd.RDD.computeOrReadCheckpoint(RDD.scala:367)\n",
      "\tat org.apache.spark.rdd.RDD.iterator(RDD.scala:331)\n",
      "\n",
      "24/03/14 22:11:52 ERROR TaskSchedulerImpl: Lost executor 0 on 192.168.2.22: Command exited with code 52\n",
      "24/03/14 22:11:52 WARN TaskSetManager: Lost task 38.0 in stage 56.0 (TID 2105) (192.168.2.22 executor 0): ExecutorLostFailure (executor 0 exited caused by one of the running tasks) Reason: Command exited with code 52\n",
      "24/03/14 22:11:52 WARN TaskSetManager: Lost task 11.1 in stage 56.0 (TID 2109) (192.168.2.22 executor 0): ExecutorLostFailure (executor 0 exited caused by one of the running tasks) Reason: Command exited with code 52\n",
      "24/03/14 22:11:52 WARN TaskSetManager: Lost task 36.0 in stage 56.0 (TID 2103) (192.168.2.22 executor 0): ExecutorLostFailure (executor 0 exited caused by one of the running tasks) Reason: Command exited with code 52\n",
      "24/03/14 22:11:52 WARN TaskSetManager: Lost task 49.0 in stage 56.0 (TID 2124) (192.168.2.22 executor 0): ExecutorLostFailure (executor 0 exited caused by one of the running tasks) Reason: Command exited with code 52\n",
      "24/03/14 22:11:52 WARN TaskSetManager: Lost task 42.0 in stage 56.0 (TID 2106) (192.168.2.22 executor 0): ExecutorLostFailure (executor 0 exited caused by one of the running tasks) Reason: Command exited with code 52\n",
      "24/03/14 22:11:52 WARN BlockManagerMasterEndpoint: No more replicas available for rdd_7_36 !\n",
      "24/03/14 22:11:52 WARN BlockManagerMasterEndpoint: No more replicas available for rdd_7_92 !\n",
      "24/03/14 22:11:52 WARN BlockManagerMasterEndpoint: No more replicas available for rdd_7_146 !\n",
      "24/03/14 22:11:52 WARN BlockManagerMasterEndpoint: No more replicas available for rdd_7_86 !\n",
      "24/03/14 22:11:52 WARN BlockManagerMasterEndpoint: No more replicas available for rdd_7_45 !\n",
      "24/03/14 22:11:52 WARN BlockManagerMasterEndpoint: No more replicas available for rdd_7_23 !\n",
      "24/03/14 22:11:52 WARN BlockManagerMasterEndpoint: No more replicas available for rdd_7_5 !\n",
      "24/03/14 22:11:52 WARN BlockManagerMasterEndpoint: No more replicas available for rdd_7_8 !\n",
      "24/03/14 22:11:52 WARN BlockManagerMasterEndpoint: No more replicas available for rdd_7_70 !\n",
      "24/03/14 22:11:52 WARN BlockManagerMasterEndpoint: No more replicas available for rdd_7_94 !\n",
      "24/03/14 22:11:52 WARN BlockManagerMasterEndpoint: No more replicas available for rdd_7_20 !\n",
      "24/03/14 22:11:52 WARN BlockManagerMasterEndpoint: No more replicas available for rdd_7_42 !\n",
      "24/03/14 22:11:52 WARN BlockManagerMasterEndpoint: No more replicas available for rdd_7_32 !\n",
      "24/03/14 22:11:52 WARN BlockManagerMasterEndpoint: No more replicas available for rdd_7_68 !\n",
      "24/03/14 22:11:52 WARN BlockManagerMasterEndpoint: No more replicas available for rdd_7_38 !\n",
      "24/03/14 22:11:52 WARN BlockManagerMasterEndpoint: No more replicas available for rdd_7_110 !\n",
      "24/03/14 22:11:52 WARN BlockManagerMasterEndpoint: No more replicas available for rdd_7_114 !\n",
      "24/03/14 22:11:52 WARN BlockManagerMasterEndpoint: No more replicas available for rdd_7_14 !\n",
      "24/03/14 22:11:52 WARN BlockManagerMasterEndpoint: No more replicas available for rdd_7_51 !\n",
      "24/03/14 22:11:52 WARN BlockManagerMasterEndpoint: No more replicas available for rdd_7_93 !\n",
      "24/03/14 22:11:52 WARN BlockManagerMasterEndpoint: No more replicas available for rdd_7_2 !\n",
      "24/03/14 22:11:52 WARN BlockManagerMasterEndpoint: No more replicas available for rdd_7_43 !\n",
      "24/03/14 22:11:52 WARN BlockManagerMasterEndpoint: No more replicas available for rdd_7_102 !\n",
      "24/03/14 22:11:52 WARN BlockManagerMasterEndpoint: No more replicas available for rdd_7_134 !\n",
      "24/03/14 22:11:52 WARN BlockManagerMasterEndpoint: No more replicas available for rdd_7_72 !\n",
      "24/03/14 22:11:52 WARN BlockManagerMasterEndpoint: No more replicas available for rdd_7_133 !\n",
      "24/03/14 22:11:52 WARN BlockManagerMasterEndpoint: No more replicas available for rdd_7_105 !\n",
      "24/03/14 22:11:52 WARN BlockManagerMasterEndpoint: No more replicas available for rdd_7_48 !\n",
      "24/03/14 22:11:52 WARN BlockManagerMasterEndpoint: No more replicas available for rdd_7_78 !\n",
      "24/03/14 22:11:52 WARN BlockManagerMasterEndpoint: No more replicas available for rdd_7_35 !\n",
      "24/03/14 22:11:52 WARN BlockManagerMasterEndpoint: No more replicas available for rdd_7_131 !\n",
      "24/03/14 22:11:52 WARN BlockManagerMasterEndpoint: No more replicas available for rdd_7_37 !\n",
      "24/03/14 22:11:52 WARN BlockManagerMasterEndpoint: No more replicas available for rdd_7_58 !\n",
      "24/03/14 22:11:52 WARN BlockManagerMasterEndpoint: No more replicas available for rdd_7_17 !\n",
      "24/03/14 22:11:52 WARN BlockManagerMasterEndpoint: No more replicas available for rdd_7_87 !\n",
      "24/03/14 22:11:52 WARN BlockManagerMasterEndpoint: No more replicas available for rdd_7_136 !\n",
      "24/03/14 22:11:52 WARN BlockManagerMasterEndpoint: No more replicas available for rdd_7_49 !\n",
      "24/03/14 22:11:52 WARN BlockManagerMasterEndpoint: No more replicas available for rdd_7_81 !\n",
      "24/03/14 22:11:52 WARN BlockManagerMasterEndpoint: No more replicas available for rdd_7_130 !\n",
      "24/03/14 22:11:52 WARN BlockManagerMasterEndpoint: No more replicas available for rdd_7_99 !\n",
      "24/03/14 22:11:52 WARN BlockManagerMasterEndpoint: No more replicas available for rdd_7_108 !\n",
      "24/03/14 22:11:52 WARN BlockManagerMasterEndpoint: No more replicas available for rdd_7_66 !\n",
      "24/03/14 22:11:52 WARN BlockManagerMasterEndpoint: No more replicas available for rdd_7_53 !\n",
      "24/03/14 22:11:52 WARN BlockManagerMasterEndpoint: No more replicas available for rdd_7_100 !\n",
      "24/03/14 22:11:52 WARN BlockManagerMasterEndpoint: No more replicas available for rdd_7_84 !\n",
      "24/03/14 22:11:52 WARN BlockManagerMasterEndpoint: No more replicas available for rdd_7_103 !\n",
      "24/03/14 22:11:52 WARN BlockManagerMasterEndpoint: No more replicas available for rdd_7_33 !\n",
      "24/03/14 22:11:52 WARN BlockManagerMasterEndpoint: No more replicas available for rdd_7_123 !\n",
      "24/03/14 22:11:52 WARN BlockManagerMasterEndpoint: No more replicas available for rdd_7_69 !\n",
      "24/03/14 22:11:52 WARN BlockManagerMasterEndpoint: No more replicas available for rdd_7_11 !\n",
      "24/03/14 22:11:52 WARN BlockManagerMasterEndpoint: No more replicas available for rdd_7_64 !\n",
      "24/03/14 22:11:52 WARN BlockManagerMasterEndpoint: No more replicas available for rdd_7_55 !\n",
      "                                                                                \r"
     ]
    },
    {
     "name": "stdout",
     "output_type": "stream",
     "text": [
      "Task top_title_per_subreddit with 3 workers completed in 28.34 seconds.\n"
     ]
    },
    {
     "name": "stderr",
     "output_type": "stream",
     "text": [
      "                                                                                \r"
     ]
    },
    {
     "name": "stdout",
     "output_type": "stream",
     "text": [
      "Task word_count_in_titles with 3 workers completed in 21.11 seconds.\n"
     ]
    },
    {
     "name": "stderr",
     "output_type": "stream",
     "text": [
      "                                                                                \r"
     ]
    },
    {
     "name": "stdout",
     "output_type": "stream",
     "text": [
      "Task self_join_shuffle with 3 workers completed in 2427.85 seconds.\n"
     ]
    },
    {
     "name": "stderr",
     "output_type": "stream",
     "text": [
      "24/03/14 22:53:09 WARN TaskSetManager: Lost task 139.0 in stage 74.0 (TID 2833) (192.168.2.221 executor 2): java.lang.OutOfMemoryError: Java heap space\n",
      "\tat java.base/java.lang.reflect.Array.newInstance(Array.java:78)\n",
      "\tat java.base/java.io.ObjectInputStream.readArray(ObjectInputStream.java:2121)\n",
      "\tat java.base/java.io.ObjectInputStream.readObject0(ObjectInputStream.java:1721)\n",
      "\tat java.base/java.io.ObjectInputStream.readArray(ObjectInputStream.java:2157)\n",
      "\tat java.base/java.io.ObjectInputStream.readObject0(ObjectInputStream.java:1721)\n",
      "\tat java.base/java.io.ObjectInputStream$FieldValues.<init>(ObjectInputStream.java:2606)\n",
      "\tat java.base/java.io.ObjectInputStream.readSerialData(ObjectInputStream.java:2457)\n",
      "\tat java.base/java.io.ObjectInputStream.readOrdinaryObject(ObjectInputStream.java:2257)\n",
      "\tat java.base/java.io.ObjectInputStream.readObject0(ObjectInputStream.java:1733)\n",
      "\tat java.base/java.io.ObjectInputStream.readObject(ObjectInputStream.java:509)\n",
      "\tat java.base/java.io.ObjectInputStream.readObject(ObjectInputStream.java:467)\n",
      "\tat org.apache.spark.serializer.JavaDeserializationStream.readObject(JavaSerializer.scala:87)\n",
      "\tat org.apache.spark.serializer.DeserializationStream$$anon$1.getNext(Serializer.scala:168)\n",
      "\tat org.apache.spark.util.NextIterator.hasNext(NextIterator.scala:73)\n",
      "\tat org.apache.spark.storage.memory.MemoryStore.putIterator(MemoryStore.scala:223)\n",
      "\tat org.apache.spark.storage.memory.MemoryStore.putIteratorAsValues(MemoryStore.scala:302)\n",
      "\tat org.apache.spark.storage.BlockManager.maybeCacheDiskValuesInMemory(BlockManager.scala:1735)\n",
      "\tat org.apache.spark.storage.BlockManager.getLocalValues(BlockManager.scala:961)\n",
      "\tat org.apache.spark.storage.BlockManager.get(BlockManager.scala:1276)\n",
      "\tat org.apache.spark.storage.BlockManager.getOrElseUpdate(BlockManager.scala:1377)\n",
      "\tat org.apache.spark.storage.BlockManager.getOrElseUpdateRDDBlock(BlockManager.scala:1343)\n",
      "\tat org.apache.spark.rdd.RDD.getOrCompute(RDD.scala:379)\n",
      "\tat org.apache.spark.rdd.RDD.iterator(RDD.scala:329)\n",
      "\tat org.apache.spark.rdd.MapPartitionsRDD.compute(MapPartitionsRDD.scala:52)\n",
      "\tat org.apache.spark.rdd.RDD.computeOrReadCheckpoint(RDD.scala:367)\n",
      "\tat org.apache.spark.rdd.RDD.iterator(RDD.scala:331)\n",
      "\tat org.apache.spark.rdd.MapPartitionsRDD.compute(MapPartitionsRDD.scala:52)\n",
      "\tat org.apache.spark.rdd.RDD.computeOrReadCheckpoint(RDD.scala:367)\n",
      "\tat org.apache.spark.rdd.RDD.iterator(RDD.scala:331)\n",
      "\tat org.apache.spark.rdd.MapPartitionsRDD.compute(MapPartitionsRDD.scala:52)\n",
      "\tat org.apache.spark.rdd.RDD.computeOrReadCheckpoint(RDD.scala:367)\n",
      "\tat org.apache.spark.rdd.RDD.iterator(RDD.scala:331)\n",
      "\n",
      "24/03/14 22:53:10 WARN TaskSetManager: Lost task 2.0 in stage 77.0 (TID 2869) (192.168.2.175 executor 1): java.lang.OutOfMemoryError: Java heap space\n",
      "\tat java.base/java.lang.reflect.Array.newInstance(Array.java:78)\n",
      "\tat java.base/java.io.ObjectInputStream.readArray(ObjectInputStream.java:2121)\n",
      "\tat java.base/java.io.ObjectInputStream.readObject0(ObjectInputStream.java:1721)\n",
      "\tat java.base/java.io.ObjectInputStream.readArray(ObjectInputStream.java:2157)\n",
      "\tat java.base/java.io.ObjectInputStream.readObject0(ObjectInputStream.java:1721)\n",
      "\tat java.base/java.io.ObjectInputStream$FieldValues.<init>(ObjectInputStream.java:2606)\n",
      "\tat java.base/java.io.ObjectInputStream.readSerialData(ObjectInputStream.java:2457)\n",
      "\tat java.base/java.io.ObjectInputStream.readOrdinaryObject(ObjectInputStream.java:2257)\n",
      "\tat java.base/java.io.ObjectInputStream.readObject0(ObjectInputStream.java:1733)\n",
      "\tat java.base/java.io.ObjectInputStream.readObject(ObjectInputStream.java:509)\n",
      "\tat java.base/java.io.ObjectInputStream.readObject(ObjectInputStream.java:467)\n",
      "\tat org.apache.spark.serializer.JavaDeserializationStream.readObject(JavaSerializer.scala:87)\n",
      "\tat org.apache.spark.serializer.DeserializationStream$$anon$1.getNext(Serializer.scala:168)\n",
      "\tat org.apache.spark.util.NextIterator.hasNext(NextIterator.scala:73)\n",
      "\tat org.apache.spark.storage.memory.MemoryStore.putIterator(MemoryStore.scala:223)\n",
      "\tat org.apache.spark.storage.memory.MemoryStore.putIteratorAsValues(MemoryStore.scala:302)\n",
      "\tat org.apache.spark.storage.BlockManager.maybeCacheDiskValuesInMemory(BlockManager.scala:1735)\n",
      "\tat org.apache.spark.storage.BlockManager.getLocalValues(BlockManager.scala:961)\n",
      "\tat org.apache.spark.storage.BlockManager.get(BlockManager.scala:1276)\n",
      "\tat org.apache.spark.storage.BlockManager.getOrElseUpdate(BlockManager.scala:1377)\n",
      "\tat org.apache.spark.storage.BlockManager.getOrElseUpdateRDDBlock(BlockManager.scala:1343)\n",
      "\tat org.apache.spark.rdd.RDD.getOrCompute(RDD.scala:379)\n",
      "\tat org.apache.spark.rdd.RDD.iterator(RDD.scala:329)\n",
      "\tat org.apache.spark.rdd.MapPartitionsRDD.compute(MapPartitionsRDD.scala:52)\n",
      "\tat org.apache.spark.rdd.RDD.computeOrReadCheckpoint(RDD.scala:367)\n",
      "\tat org.apache.spark.rdd.RDD.iterator(RDD.scala:331)\n",
      "\tat org.apache.spark.rdd.MapPartitionsRDD.compute(MapPartitionsRDD.scala:52)\n",
      "\tat org.apache.spark.rdd.RDD.computeOrReadCheckpoint(RDD.scala:367)\n",
      "\tat org.apache.spark.rdd.RDD.iterator(RDD.scala:331)\n",
      "\tat org.apache.spark.rdd.MapPartitionsRDD.compute(MapPartitionsRDD.scala:52)\n",
      "\tat org.apache.spark.rdd.RDD.computeOrReadCheckpoint(RDD.scala:367)\n",
      "\tat org.apache.spark.rdd.RDD.iterator(RDD.scala:331)\n",
      "\n",
      "24/03/14 22:53:11 ERROR TaskSchedulerImpl: Lost executor 2 on 192.168.2.221: Command exited with code 52\n",
      "24/03/14 22:53:11 WARN BlockManagerMasterEndpoint: No more replicas available for rdd_7_79 !\n",
      "24/03/14 22:53:11 WARN BlockManagerMasterEndpoint: No more replicas available for rdd_7_96 !\n",
      "24/03/14 22:53:11 WARN BlockManagerMasterEndpoint: No more replicas available for rdd_7_71 !\n",
      "24/03/14 22:53:11 WARN BlockManagerMasterEndpoint: No more replicas available for rdd_7_82 !\n",
      "24/03/14 22:53:11 WARN BlockManagerMasterEndpoint: No more replicas available for rdd_7_146 !\n",
      "24/03/14 22:53:11 WARN BlockManagerMasterEndpoint: No more replicas available for rdd_7_18 !\n",
      "24/03/14 22:53:11 WARN BlockManagerMasterEndpoint: No more replicas available for rdd_7_67 !\n",
      "24/03/14 22:53:11 WARN BlockManagerMasterEndpoint: No more replicas available for rdd_7_86 !\n",
      "24/03/14 22:53:11 WARN BlockManagerMasterEndpoint: No more replicas available for rdd_7_76 !\n",
      "24/03/14 22:53:11 WARN BlockManagerMasterEndpoint: No more replicas available for rdd_7_24 !\n",
      "24/03/14 22:53:11 WARN BlockManagerMasterEndpoint: No more replicas available for rdd_7_98 !\n",
      "24/03/14 22:53:11 WARN BlockManagerMasterEndpoint: No more replicas available for rdd_7_45 !\n",
      "24/03/14 22:53:11 WARN BlockManagerMasterEndpoint: No more replicas available for rdd_7_70 !\n",
      "24/03/14 22:53:11 WARN BlockManagerMasterEndpoint: No more replicas available for rdd_7_88 !\n",
      "24/03/14 22:53:11 WARN BlockManagerMasterEndpoint: No more replicas available for rdd_7_141 !\n",
      "24/03/14 22:53:11 WARN BlockManagerMasterEndpoint: No more replicas available for rdd_7_28 !\n",
      "24/03/14 22:53:11 WARN BlockManagerMasterEndpoint: No more replicas available for rdd_7_74 !\n",
      "24/03/14 22:53:11 WARN BlockManagerMasterEndpoint: No more replicas available for rdd_7_68 !\n",
      "24/03/14 22:53:11 WARN BlockManagerMasterEndpoint: No more replicas available for rdd_7_95 !\n",
      "24/03/14 22:53:11 WARN BlockManagerMasterEndpoint: No more replicas available for rdd_7_65 !\n",
      "24/03/14 22:53:11 WARN BlockManagerMasterEndpoint: No more replicas available for rdd_7_114 !\n",
      "24/03/14 22:53:11 WARN BlockManagerMasterEndpoint: No more replicas available for rdd_7_46 !\n",
      "24/03/14 22:53:11 WARN BlockManagerMasterEndpoint: No more replicas available for rdd_7_57 !\n",
      "24/03/14 22:53:11 WARN BlockManagerMasterEndpoint: No more replicas available for rdd_7_21 !\n",
      "24/03/14 22:53:11 WARN BlockManagerMasterEndpoint: No more replicas available for rdd_7_51 !\n",
      "24/03/14 22:53:11 WARN BlockManagerMasterEndpoint: No more replicas available for rdd_7_15 !\n",
      "24/03/14 22:53:11 WARN BlockManagerMasterEndpoint: No more replicas available for rdd_7_43 !\n",
      "24/03/14 22:53:11 WARN BlockManagerMasterEndpoint: No more replicas available for rdd_7_109 !\n",
      "24/03/14 22:53:11 WARN BlockManagerMasterEndpoint: No more replicas available for rdd_7_102 !\n",
      "24/03/14 22:53:11 WARN BlockManagerMasterEndpoint: No more replicas available for rdd_7_106 !\n",
      "24/03/14 22:53:11 WARN BlockManagerMasterEndpoint: No more replicas available for rdd_7_139 !\n",
      "24/03/14 22:53:11 WARN BlockManagerMasterEndpoint: No more replicas available for rdd_7_9 !\n",
      "24/03/14 22:53:11 WARN BlockManagerMasterEndpoint: No more replicas available for rdd_7_50 !\n",
      "24/03/14 22:53:11 WARN BlockManagerMasterEndpoint: No more replicas available for rdd_7_121 !\n",
      "24/03/14 22:53:11 WARN BlockManagerMasterEndpoint: No more replicas available for rdd_7_105 !\n",
      "24/03/14 22:53:11 WARN BlockManagerMasterEndpoint: No more replicas available for rdd_7_48 !\n",
      "24/03/14 22:53:11 WARN BlockManagerMasterEndpoint: No more replicas available for rdd_7_125 !\n",
      "24/03/14 22:53:11 WARN BlockManagerMasterEndpoint: No more replicas available for rdd_7_78 !\n",
      "24/03/14 22:53:11 WARN BlockManagerMasterEndpoint: No more replicas available for rdd_7_131 !\n",
      "24/03/14 22:53:11 WARN BlockManagerMasterEndpoint: No more replicas available for rdd_7_35 !\n",
      "24/03/14 22:53:11 WARN BlockManagerMasterEndpoint: No more replicas available for rdd_7_27 !\n",
      "24/03/14 22:53:11 WARN BlockManagerMasterEndpoint: No more replicas available for rdd_7_34 !\n",
      "24/03/14 22:53:11 WARN BlockManagerMasterEndpoint: No more replicas available for rdd_7_37 !\n",
      "24/03/14 22:53:11 WARN BlockManagerMasterEndpoint: No more replicas available for rdd_7_25 !\n",
      "24/03/14 22:53:11 WARN BlockManagerMasterEndpoint: No more replicas available for rdd_7_12 !\n",
      "24/03/14 22:53:11 WARN BlockManagerMasterEndpoint: No more replicas available for rdd_7_124 !\n",
      "24/03/14 22:53:11 WARN BlockManagerMasterEndpoint: No more replicas available for rdd_7_3 !\n",
      "24/03/14 22:53:11 WARN BlockManagerMasterEndpoint: No more replicas available for rdd_7_6 !\n",
      "24/03/14 22:53:11 WARN BlockManagerMasterEndpoint: No more replicas available for rdd_7_138 !\n",
      "24/03/14 22:53:11 WARN BlockManagerMasterEndpoint: No more replicas available for rdd_7_49 !\n",
      "24/03/14 22:53:11 WARN BlockManagerMasterEndpoint: No more replicas available for rdd_7_26 !\n",
      "24/03/14 22:53:11 WARN BlockManagerMasterEndpoint: No more replicas available for rdd_7_59 !\n",
      "24/03/14 22:53:11 WARN BlockManagerMasterEndpoint: No more replicas available for rdd_7_127 !\n",
      "24/03/14 22:53:11 WARN BlockManagerMasterEndpoint: No more replicas available for rdd_7_130 !\n",
      "24/03/14 22:53:11 WARN BlockManagerMasterEndpoint: No more replicas available for rdd_7_132 !\n",
      "24/03/14 22:53:11 WARN BlockManagerMasterEndpoint: No more replicas available for rdd_7_112 !\n",
      "24/03/14 22:53:11 WARN BlockManagerMasterEndpoint: No more replicas available for rdd_7_53 !\n",
      "24/03/14 22:53:11 WARN BlockManagerMasterEndpoint: No more replicas available for rdd_7_100 !\n",
      "24/03/14 22:53:11 WARN BlockManagerMasterEndpoint: No more replicas available for rdd_7_54 !\n",
      "24/03/14 22:53:11 WARN BlockManagerMasterEndpoint: No more replicas available for rdd_7_91 !\n",
      "24/03/14 22:53:11 WARN BlockManagerMasterEndpoint: No more replicas available for rdd_7_126 !\n",
      "24/03/14 22:53:11 WARN BlockManagerMasterEndpoint: No more replicas available for rdd_7_84 !\n",
      "24/03/14 22:53:11 WARN BlockManagerMasterEndpoint: No more replicas available for rdd_7_103 !\n",
      "24/03/14 22:53:11 WARN BlockManagerMasterEndpoint: No more replicas available for rdd_7_0 !\n",
      "24/03/14 22:53:11 WARN BlockManagerMasterEndpoint: No more replicas available for rdd_7_73 !\n",
      "24/03/14 22:53:11 WARN BlockManagerMasterEndpoint: No more replicas available for rdd_7_140 !\n",
      "24/03/14 22:53:11 WARN BlockManagerMasterEndpoint: No more replicas available for rdd_7_33 !\n",
      "24/03/14 22:53:11 WARN BlockManagerMasterEndpoint: No more replicas available for rdd_7_61 !\n",
      "24/03/14 22:53:11 WARN BlockManagerMasterEndpoint: No more replicas available for rdd_7_119 !\n",
      "24/03/14 22:53:11 WARN BlockManagerMasterEndpoint: No more replicas available for rdd_7_116 !\n",
      "24/03/14 22:53:11 WARN BlockManagerMasterEndpoint: No more replicas available for rdd_7_55 !\n",
      "24/03/14 22:53:11 WARN BlockManagerMasterEndpoint: No more replicas available for rdd_7_11 !\n",
      "24/03/14 22:53:11 WARN BlockManagerMasterEndpoint: No more replicas available for rdd_7_64 !\n",
      "24/03/14 22:53:12 ERROR TaskSchedulerImpl: Lost executor 1 on 192.168.2.175: Command exited with code 52\n",
      "24/03/14 22:53:12 WARN TaskSetManager: Lost task 47.0 in stage 77.0 (TID 2894) (192.168.2.175 executor 1): ExecutorLostFailure (executor 1 exited caused by one of the running tasks) Reason: Command exited with code 52\n",
      "24/03/14 22:53:12 WARN TaskSetManager: Lost task 41.0 in stage 77.0 (TID 2891) (192.168.2.175 executor 1): ExecutorLostFailure (executor 1 exited caused by one of the running tasks) Reason: Command exited with code 52\n",
      "24/03/14 22:53:12 WARN TaskSetManager: Lost task 44.0 in stage 77.0 (TID 2893) (192.168.2.175 executor 1): ExecutorLostFailure (executor 1 exited caused by one of the running tasks) Reason: Command exited with code 52\n",
      "24/03/14 22:53:12 WARN TaskSetManager: Lost task 52.0 in stage 77.0 (TID 2896) (192.168.2.175 executor 1): ExecutorLostFailure (executor 1 exited caused by one of the running tasks) Reason: Command exited with code 52\n",
      "24/03/14 22:53:12 WARN TaskSetManager: Lost task 42.0 in stage 77.0 (TID 2892) (192.168.2.175 executor 1): ExecutorLostFailure (executor 1 exited caused by one of the running tasks) Reason: Command exited with code 52\n",
      "24/03/14 22:53:12 WARN TaskSetManager: Lost task 2.1 in stage 77.0 (TID 2895) (192.168.2.175 executor 1): ExecutorLostFailure (executor 1 exited caused by one of the running tasks) Reason: Command exited with code 52\n",
      "24/03/14 22:53:12 WARN BlockManagerMasterEndpoint: No more replicas available for rdd_7_36 !\n",
      "24/03/14 22:53:12 WARN BlockManagerMasterEndpoint: No more replicas available for rdd_7_92 !\n",
      "24/03/14 22:53:12 WARN BlockManagerMasterEndpoint: No more replicas available for rdd_7_144 !\n",
      "24/03/14 22:53:12 WARN BlockManagerMasterEndpoint: No more replicas available for rdd_7_117 !\n",
      "24/03/14 22:53:12 WARN BlockManagerMasterEndpoint: No more replicas available for rdd_7_122 !\n",
      "24/03/14 22:53:12 WARN BlockManagerMasterEndpoint: No more replicas available for rdd_7_44 !\n",
      "24/03/14 22:53:12 WARN BlockManagerMasterEndpoint: No more replicas available for rdd_7_23 !\n",
      "24/03/14 22:53:12 WARN BlockManagerMasterEndpoint: No more replicas available for rdd_7_90 !\n",
      "24/03/14 22:53:12 WARN BlockManagerMasterEndpoint: No more replicas available for rdd_7_111 !\n",
      "24/03/14 22:53:12 WARN BlockManagerMasterEndpoint: No more replicas available for rdd_7_104 !\n",
      "24/03/14 22:53:12 WARN BlockManagerMasterEndpoint: No more replicas available for rdd_7_94 !\n",
      "24/03/14 22:53:12 WARN BlockManagerMasterEndpoint: No more replicas available for rdd_7_5 !\n",
      "24/03/14 22:53:12 WARN BlockManagerMasterEndpoint: No more replicas available for rdd_7_8 !\n",
      "24/03/14 22:53:12 WARN BlockManagerMasterEndpoint: No more replicas available for rdd_7_120 !\n",
      "24/03/14 22:53:12 WARN BlockManagerMasterEndpoint: No more replicas available for rdd_7_20 !\n",
      "24/03/14 22:53:12 WARN BlockManagerMasterEndpoint: No more replicas available for rdd_7_113 !\n",
      "24/03/14 22:53:12 WARN BlockManagerMasterEndpoint: No more replicas available for rdd_7_42 !\n",
      "24/03/14 22:53:12 WARN BlockManagerMasterEndpoint: No more replicas available for rdd_7_32 !\n",
      "24/03/14 22:53:12 WARN BlockManagerMasterEndpoint: No more replicas available for rdd_7_40 !\n",
      "24/03/14 22:53:12 WARN BlockManagerMasterEndpoint: No more replicas available for rdd_7_115 !\n",
      "24/03/14 22:53:12 WARN BlockManagerMasterEndpoint: No more replicas available for rdd_7_135 !\n",
      "24/03/14 22:53:12 WARN BlockManagerMasterEndpoint: No more replicas available for rdd_7_101 !\n",
      "24/03/14 22:53:12 WARN BlockManagerMasterEndpoint: No more replicas available for rdd_7_38 !\n",
      "24/03/14 22:53:12 WARN BlockManagerMasterEndpoint: No more replicas available for rdd_7_110 !\n",
      "24/03/14 22:53:12 WARN BlockManagerMasterEndpoint: No more replicas available for rdd_7_80 !\n",
      "24/03/14 22:53:12 WARN BlockManagerMasterEndpoint: No more replicas available for rdd_7_89 !\n",
      "24/03/14 22:53:12 WARN BlockManagerMasterEndpoint: No more replicas available for rdd_7_143 !\n",
      "24/03/14 22:53:12 WARN BlockManagerMasterEndpoint: No more replicas available for rdd_7_31 !\n",
      "24/03/14 22:53:12 WARN BlockManagerMasterEndpoint: No more replicas available for rdd_7_52 !\n",
      "24/03/14 22:53:12 WARN BlockManagerMasterEndpoint: No more replicas available for rdd_7_14 !\n",
      "24/03/14 22:53:12 WARN BlockManagerMasterEndpoint: No more replicas available for rdd_7_4 !\n",
      "24/03/14 22:53:12 WARN BlockManagerMasterEndpoint: No more replicas available for rdd_7_47 !\n",
      "24/03/14 22:53:12 WARN BlockManagerMasterEndpoint: No more replicas available for rdd_7_128 !\n",
      "24/03/14 22:53:12 WARN BlockManagerMasterEndpoint: No more replicas available for rdd_7_93 !\n",
      "24/03/14 22:53:12 WARN BlockManagerMasterEndpoint: No more replicas available for rdd_7_2 !\n",
      "24/03/14 22:53:12 WARN BlockManagerMasterEndpoint: No more replicas available for rdd_7_30 !\n",
      "24/03/14 22:53:12 WARN BlockManagerMasterEndpoint: No more replicas available for rdd_7_63 !\n",
      "24/03/14 22:53:12 WARN BlockManagerMasterEndpoint: No more replicas available for rdd_7_134 !\n",
      "24/03/14 22:53:12 WARN BlockManagerMasterEndpoint: No more replicas available for rdd_7_72 !\n",
      "24/03/14 22:53:12 WARN BlockManagerMasterEndpoint: No more replicas available for rdd_7_133 !\n",
      "24/03/14 22:53:12 WARN BlockManagerMasterEndpoint: No more replicas available for rdd_7_19 !\n",
      "24/03/14 22:53:12 WARN BlockManagerMasterEndpoint: No more replicas available for rdd_7_39 !\n",
      "24/03/14 22:53:12 WARN BlockManagerMasterEndpoint: No more replicas available for rdd_7_129 !\n",
      "24/03/14 22:53:12 WARN BlockManagerMasterEndpoint: No more replicas available for rdd_7_29 !\n",
      "24/03/14 22:53:12 WARN BlockManagerMasterEndpoint: No more replicas available for rdd_7_77 !\n",
      "24/03/14 22:53:12 WARN BlockManagerMasterEndpoint: No more replicas available for rdd_7_97 !\n",
      "24/03/14 22:53:12 WARN BlockManagerMasterEndpoint: No more replicas available for rdd_7_107 !\n",
      "24/03/14 22:53:12 WARN BlockManagerMasterEndpoint: No more replicas available for rdd_7_10 !\n",
      "24/03/14 22:53:12 WARN BlockManagerMasterEndpoint: No more replicas available for rdd_7_16 !\n",
      "24/03/14 22:53:12 WARN BlockManagerMasterEndpoint: No more replicas available for rdd_7_58 !\n",
      "24/03/14 22:53:12 WARN BlockManagerMasterEndpoint: No more replicas available for rdd_7_87 !\n",
      "24/03/14 22:53:12 WARN BlockManagerMasterEndpoint: No more replicas available for rdd_7_17 !\n",
      "24/03/14 22:53:12 WARN BlockManagerMasterEndpoint: No more replicas available for rdd_7_41 !\n",
      "24/03/14 22:53:12 WARN BlockManagerMasterEndpoint: No more replicas available for rdd_7_56 !\n",
      "24/03/14 22:53:12 WARN BlockManagerMasterEndpoint: No more replicas available for rdd_7_75 !\n",
      "24/03/14 22:53:12 WARN BlockManagerMasterEndpoint: No more replicas available for rdd_7_85 !\n",
      "24/03/14 22:53:12 WARN BlockManagerMasterEndpoint: No more replicas available for rdd_7_83 !\n",
      "24/03/14 22:53:12 WARN BlockManagerMasterEndpoint: No more replicas available for rdd_7_136 !\n",
      "24/03/14 22:53:12 WARN BlockManagerMasterEndpoint: No more replicas available for rdd_7_13 !\n",
      "24/03/14 22:53:12 WARN BlockManagerMasterEndpoint: No more replicas available for rdd_7_81 !\n",
      "24/03/14 22:53:12 WARN BlockManagerMasterEndpoint: No more replicas available for rdd_7_99 !\n",
      "24/03/14 22:53:12 WARN BlockManagerMasterEndpoint: No more replicas available for rdd_7_108 !\n",
      "24/03/14 22:53:12 WARN BlockManagerMasterEndpoint: No more replicas available for rdd_7_66 !\n",
      "24/03/14 22:53:12 WARN BlockManagerMasterEndpoint: No more replicas available for rdd_7_60 !\n",
      "24/03/14 22:53:12 WARN BlockManagerMasterEndpoint: No more replicas available for rdd_7_142 !\n",
      "24/03/14 22:53:12 WARN BlockManagerMasterEndpoint: No more replicas available for rdd_7_137 !\n",
      "24/03/14 22:53:12 WARN BlockManagerMasterEndpoint: No more replicas available for rdd_7_22 !\n",
      "24/03/14 22:53:12 WARN BlockManagerMasterEndpoint: No more replicas available for rdd_7_62 !\n",
      "24/03/14 22:53:12 WARN BlockManagerMasterEndpoint: No more replicas available for rdd_7_123 !\n",
      "24/03/14 22:53:12 WARN BlockManagerMasterEndpoint: No more replicas available for rdd_7_7 !\n",
      "24/03/14 22:53:12 WARN BlockManagerMasterEndpoint: No more replicas available for rdd_7_118 !\n",
      "24/03/14 22:53:12 WARN BlockManagerMasterEndpoint: No more replicas available for rdd_7_69 !\n",
      "24/03/14 22:53:12 WARN BlockManagerMasterEndpoint: No more replicas available for rdd_7_1 !\n",
      "24/03/14 22:53:12 WARN BlockManagerMasterEndpoint: No more replicas available for rdd_7_145 !\n",
      "                                                                                \r"
     ]
    },
    {
     "name": "stdout",
     "output_type": "stream",
     "text": [
      "Task cross_join with 3 workers completed in 224.25 seconds.\n"
     ]
    },
    {
     "name": "stderr",
     "output_type": "stream",
     "text": [
      "[Stage 80:============================>                         (78 + 24) / 147]\r"
     ]
    }
   ],
   "source": [
    "# Main\n",
    "if __name__ == \"__main__\":\n",
    "    # Setup CSV for results\n",
    "    with open(results_path, 'w', newline='') as csvfile:\n",
    "        writer = csv.writer(csvfile)\n",
    "        writer.writerow(['TestID', 'Task', 'Duration'])\n",
    "    \n",
    "# Run tasks for 3 workers\n",
    "worker_counts = 3\n",
    "\n",
    "spark_session = create_spark_session(worker_counts)\n",
    "run_tasks(spark_session, worker_counts)\n"
   ]
  },
  {
   "cell_type": "code",
   "execution_count": null,
   "id": "54cb88b2-1a5e-4ff5-bdf1-47808b14e584",
   "metadata": {},
   "outputs": [],
   "source": [
    "spark_session.stop()"
   ]
  }
 ],
 "metadata": {
  "kernelspec": {
   "display_name": "Python 3 (ipykernel)",
   "language": "python",
   "name": "python3"
  },
  "language_info": {
   "codemirror_mode": {
    "name": "ipython",
    "version": 3
   },
   "file_extension": ".py",
   "mimetype": "text/x-python",
   "name": "python",
   "nbconvert_exporter": "python",
   "pygments_lexer": "ipython3",
   "version": "3.10.12"
  }
 },
 "nbformat": 4,
 "nbformat_minor": 5
}
